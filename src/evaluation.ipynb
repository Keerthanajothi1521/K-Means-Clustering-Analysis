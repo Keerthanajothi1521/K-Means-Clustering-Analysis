def evaluate_clusters(data, labels):
    """Calculate clustering metrics"""
    return {
        'silhouette': silhouette_score(data, labels),
        'davies_bouldin': davies_bouldin_score(data, labels)
    }
def find_optimal_k(data, max_k=10):
    """Find optimal number of clusters"""
    results = []
    for k in range(2, max_k+1):
        kmeans = KMeans(n_clusters=k, random_state=42, n_init=10)
        labels = kmeans.fit_predict(data)
        results.append({
            'k': k,
            'metrics': evaluate_clusters(data, labels)
        })
    return results
