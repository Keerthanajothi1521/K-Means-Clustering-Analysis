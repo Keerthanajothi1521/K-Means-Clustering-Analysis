 # Label Encoding
    non_numeric_cols = data.select_dtypes(include=['object']).columns
    for col in non_numeric_cols:
        le = LabelEncoder()
        data[col] = le.fit_transform(data[col])
# Handle missing values
    data = data.dropna()
    return data
def normalize_data(data):
    """Normalize data using StandardScaler"""
    scaler = StandardScaler()
    return scaler.fit_transform(data)
