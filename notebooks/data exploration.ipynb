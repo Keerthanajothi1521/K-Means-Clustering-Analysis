data = pd.read_csv("clusteringDataset.csv")
print("Initial data preview:")
print(data.head(2))
non_numeric_cols = data.select_dtypes(include=['object']).columns
print("\nNon-Numeric Columns:", non_numeric_cols.tolist())
if not non_numeric_cols.empty:
    label_encoders = {}
    for col in non_numeric_cols:
        le = LabelEncoder()
        data[col] = le.fit_transform(data[col])
        label_encoders[col] = le
print("\nMissing values per column:")
print(data.isnull().sum())
