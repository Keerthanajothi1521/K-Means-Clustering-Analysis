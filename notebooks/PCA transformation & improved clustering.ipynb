best_dbi = float("inf")
best_k = None
for k in range(2, 10):  
    kmeans = KMeans(n_clusters=k, random_state=42, n_init=10)
    labels = kmeans.fit_predict(data_scaled)
    dbi = davies_bouldin_score(data_scaled, labels)
        if dbi < best_dbi:
        best_dbi = dbi
        best_k = k
print(f"Optimal K: {best_k}, Best DBI: {best_dbi:.4f}")
kmeans = KMeans(n_clusters=best_k, random_state=42, n_init=10)
kmeans_labels = kmeans.fit_predict(data_scaled)
