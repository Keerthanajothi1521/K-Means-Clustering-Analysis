data = pd.read_csv("clusteringDataset.csv")
print(data.head(2))
non_numeric_cols = data.select_dtypes(include=['object']).columns
print("Non-Numeric Columns:", non_numeric_cols.tolist())
if not non_numeric_cols.empty:
    label_encoders = {}
    for col in non_numeric_cols:
        le = LabelEncoder()  
        data[col] = le.fit_transform(data[col])  
        label_encoders[col] = le
print("Missing values per column:\n", data.isnull().sum())
data = data.dropna()
scaler = StandardScaler()
data_scaled = scaler.fit_transform(data)
