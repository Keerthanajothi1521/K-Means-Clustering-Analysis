def find_best_k(X, max_k=10):
    silhouette_avg_scores = []
    for k in range(2, max_k+1):
        kmeans = KMeans(n_clusters=k, init='k-means++', random_state=42)
        kmeans.fit(X)
        cluster_labels = kmeans.labels_
        score = silhouette_score(X, cluster_labels)
        silhouette_avg_scores.append(score)
        print(f"Silhouette score for k={k}: {score}")
    best_k = np.argmax(silhouette_avg_scores) + 2  
    print(f"\nBest K: {best_k}")
#using best K using silhouette score (based on PCA data)
best_k = find_best_k(X_pca)
kmeans = KMeans(n_clusters=best_k, init='k-means++', random_state=42)
kmeans.fit(X_pca)
cluster_labels = kmeans.labels_
